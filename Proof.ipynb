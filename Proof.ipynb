{
  "nbformat": 4,
  "nbformat_minor": 0,
  "metadata": {
    "colab": {
      "name": "Proof",
      "provenance": [],
      "collapsed_sections": [],
      "toc_visible": true
    },
    "kernelspec": {
      "name": "python3",
      "display_name": "Python 3"
    },
    "accelerator": "GPU"
  },
  "cells": [
    {
      "cell_type": "markdown",
      "metadata": {
        "id": "o05DLfg6Hfb-",
        "colab_type": "text"
      },
      "source": [
        "#Import"
      ]
    },
    {
      "cell_type": "code",
      "metadata": {
        "id": "kdAtlDHfLiCp",
        "colab_type": "code",
        "outputId": "3100640a-bb7c-4f00-d8e6-fc275ea0f974",
        "colab": {
          "base_uri": "https://localhost:8080/",
          "height": 173
        }
      },
      "source": [
        "!pip install dlib\n",
        "!pip install face_recognition\n"
      ],
      "execution_count": 64,
      "outputs": [
        {
          "output_type": "stream",
          "text": [
            "Requirement already satisfied: dlib in /usr/local/lib/python3.6/dist-packages (19.16.0)\n",
            "Requirement already satisfied: face_recognition in /usr/local/lib/python3.6/dist-packages (1.2.3)\n",
            "Requirement already satisfied: Click>=6.0 in /usr/local/lib/python3.6/dist-packages (from face_recognition) (7.0)\n",
            "Requirement already satisfied: numpy in /usr/local/lib/python3.6/dist-packages (from face_recognition) (1.17.4)\n",
            "Requirement already satisfied: dlib>=19.7 in /usr/local/lib/python3.6/dist-packages (from face_recognition) (19.16.0)\n",
            "Requirement already satisfied: face-recognition-models>=0.3.0 in /usr/local/lib/python3.6/dist-packages (from face_recognition) (0.3.0)\n",
            "Requirement already satisfied: Pillow in /usr/local/lib/python3.6/dist-packages (from face_recognition) (4.3.0)\n",
            "Requirement already satisfied: olefile in /usr/local/lib/python3.6/dist-packages (from Pillow->face_recognition) (0.46)\n"
          ],
          "name": "stdout"
        }
      ]
    },
    {
      "cell_type": "code",
      "metadata": {
        "id": "a-AVuZUOHKHa",
        "colab_type": "code",
        "colab": {}
      },
      "source": [
        "import numpy as np\n",
        "import csv\n",
        "from PIL import Image, ImageDraw\n",
        "from IPython.display import display\n",
        "from zipfile import ZipFile\n",
        "import face_recognition"
      ],
      "execution_count": 0,
      "outputs": []
    },
    {
      "cell_type": "markdown",
      "metadata": {
        "id": "coT-_YzyHiKQ",
        "colab_type": "text"
      },
      "source": [
        "#Global variables"
      ]
    },
    {
      "cell_type": "code",
      "metadata": {
        "id": "8-Bo11mRHk6C",
        "colab_type": "code",
        "colab": {}
      },
      "source": [
        ""
      ],
      "execution_count": 0,
      "outputs": []
    },
    {
      "cell_type": "markdown",
      "metadata": {
        "id": "RJJKMOkPHlPf",
        "colab_type": "text"
      },
      "source": [
        "#Connect to drive"
      ]
    },
    {
      "cell_type": "code",
      "metadata": {
        "id": "--YB-voFHp8b",
        "colab_type": "code",
        "outputId": "5d90b7fd-0ce3-453e-b6f2-c12e10a3c404",
        "colab": {
          "base_uri": "https://localhost:8080/",
          "height": 34
        }
      },
      "source": [
        "# from google.colab import drive\n",
        "# drive.mount('/gdrive',force_remount=True)\n",
        "from google.colab import drive\n",
        "drive.mount('/content/drive',force_remount=True)"
      ],
      "execution_count": 66,
      "outputs": [
        {
          "output_type": "stream",
          "text": [
            "Mounted at /content/drive\n"
          ],
          "name": "stdout"
        }
      ]
    },
    {
      "cell_type": "markdown",
      "metadata": {
        "id": "zarkgBhJHq2U",
        "colab_type": "text"
      },
      "source": [
        "#Get and unzip dataset"
      ]
    },
    {
      "cell_type": "code",
      "metadata": {
        "id": "k6wRJrLQHyzo",
        "colab_type": "code",
        "outputId": "ae0a5adc-aba1-4a65-ae15-827bd3c8faee",
        "colab": {
          "base_uri": "https://localhost:8080/",
          "height": 34
        }
      },
      "source": [
        "#file_name = \"\" #shayan\n",
        "file_name = \"./drive/My Drive/Research Project/aged_celeb_ds.zip\" #rachana pallavi\n",
        "# !ls \"./drive/My Drive/Research Project\"\n",
        "# !ls \"./drive/My Drive/Hackathong\"\n",
        "#!unzip \"/gdrive/My Drive/Hackathong/correct_no_garbage.zip\" -d \"./drive/My Drive/Hackathong\"\n",
        "\n",
        "with ZipFile(file_name, 'r') as zip:\n",
        "  zip.extractall()\n",
        "  print(\"Unzipped file\")\n",
        "  "
      ],
      "execution_count": 67,
      "outputs": [
        {
          "output_type": "stream",
          "text": [
            "Unzipped file\n"
          ],
          "name": "stdout"
        }
      ]
    },
    {
      "cell_type": "code",
      "metadata": {
        "id": "Kqb_xaNkbR8U",
        "colab_type": "code",
        "outputId": "6923af99-a220-4189-9a9f-3843bb2a1214",
        "colab": {
          "base_uri": "https://localhost:8080/",
          "height": 34
        }
      },
      "source": [
        "#!cp -r \"/content/drive/My Drive/Hackathong/missing_images\" ./\n",
        "#!cp -r \"/content/drive/My Drive/Indian Police MoRTH data set/missing_images\" ./\n",
        "file_name = \"./drive/My Drive/Research Project/celeb_ds.zip\" #rachana pallavi\n",
        "# !ls \"./drive/My Drive/Research Project\"\n",
        "# !ls \"./drive/My Drive/Hackathong\"\n",
        "#!unzip \"/gdrive/My Drive/Hackathong/correct_no_garbage.zip\" -d \"./drive/My Drive/Hackathong\"\n",
        "\n",
        "with ZipFile(file_name, 'r') as zip:\n",
        "  zip.extractall()\n",
        "  print(\"Unzipped file\")\n"
      ],
      "execution_count": 68,
      "outputs": [
        {
          "output_type": "stream",
          "text": [
            "Unzipped file\n"
          ],
          "name": "stdout"
        }
      ]
    },
    {
      "cell_type": "code",
      "metadata": {
        "id": "hbBn3YzfcAhW",
        "colab_type": "code",
        "colab": {}
      },
      "source": [
        "with open('people1.csv', 'a') as csvFile:\n",
        "   ;\n"
      ],
      "execution_count": 0,
      "outputs": []
    },
    {
      "cell_type": "code",
      "metadata": {
        "id": "clFbep9XOsOe",
        "colab_type": "code",
        "colab": {}
      },
      "source": [
        "#pil_im = Image.open('./missing_images/001 (2)#_456dd4c6-9174-419d-ba97-bc88fd2c97921332.jpg')\n",
        "#display(pil_im)"
      ],
      "execution_count": 0,
      "outputs": []
    },
    {
      "cell_type": "code",
      "metadata": {
        "id": "w8_r3MEZEmtO",
        "colab_type": "code",
        "outputId": "36942dc3-ec74-45b0-8621-a11d773e0db8",
        "colab": {
          "base_uri": "https://localhost:8080/",
          "height": 396
        }
      },
      "source": [
        "import face_recognition\n",
        "\n",
        "# Load the jpg files into numpy arrays\n",
        "#known_image = face_recognition.load_image_file(\"/content/drive/My Drive/Epson iPrint/ao1.jpg\")\n",
        "aged='/content/aged_celeb_ds/A32_42F/17_1_0_20170109213933756.jpg.chip.jpg.jpg'\n",
        "real='/content/celeb_ds/A16_24F/17_1_0_20170109213933756.jpg.chip.jpg'\n",
        "known_image = face_recognition.load_image_file(aged)\n",
        "unknown_image = face_recognition.load_image_file(real)\n",
        "# Get the face encodings for each face in each image file\n",
        "# Since there could be more than one face in each image, it returns a list of encodings.\n",
        "# But since I know each image only has one face, I only care about the first encoding in each image, so I grab index 0.\n",
        "try:\n",
        "    known_face_encoding = face_recognition.face_encodings(known_image)[0]\n",
        "    unknown_face_encoding = face_recognition.face_encodings(unknown_image)[0]\n",
        "except IndexError:\n",
        "    print(\"I wasn't able to locate any faces in at least one of the images. Check the image files. Aborting...\")\n",
        "    quit()\n",
        "known_faces=[known_face_encoding]\n",
        "#print(known_faces)\n",
        "# results is an array of True/False telling if the unknown face matched anyone in the known_faces array\n",
        "distance=face_recognition.face_distance(known_faces, unknown_face_encoding)\n",
        "#print(distance)\n",
        "print(min(distance))\n",
        "results = face_recognition.compare_faces(known_faces, unknown_face_encoding, tolerance=0.65)\n",
        "\n",
        "print(\"Is the unknown face a picture of someone known? {}\".format(results[0]))\n",
        "print(\"Is the unknown face a new person that we've never seen before? {}\".format(not True in results))\n",
        "pil_im1 = Image.open(aged)\n",
        "display(pil_im1)\n",
        "pil_im2 = Image.open(real)\n",
        "display(pil_im2)\n"
      ],
      "execution_count": 71,
      "outputs": [
        {
          "output_type": "stream",
          "text": [
            "0.7218861971313635\n",
            "Is the unknown face a picture of someone known? False\n",
            "Is the unknown face a new person that we've never seen before? True\n"
          ],
          "name": "stdout"
        },
        {
          "output_type": "display_data",
          "data": {
            "image/png": "[encoded data removed]",
            "text/plain": [
              "<PIL.JpegImagePlugin.JpegImageFile image mode=RGB size=128x128 at 0x7F17CD69D860>"
            ]
          },
          "metadata": {
            "tags": []
          }
        },
        {
          "output_type": "display_data",
          "data": {
            "image/png": "[encoded data removed]",
            "text/plain": [
              "<PIL.JpegImagePlugin.JpegImageFile image mode=RGB size=200x200 at 0x7F17CD69D320>"
            ]
          },
          "metadata": {
            "tags": []
          }
        }
      ]
    },
    {
      "cell_type": "code",
      "metadata": {
        "id": "TXyAxYbsF8Iu",
        "colab_type": "code",
        "colab": {}
      },
      "source": [
        "#print(known_faces)"
      ],
      "execution_count": 0,
      "outputs": []
    },
    {
      "cell_type": "code",
      "metadata": {
        "id": "Y5d8Dc2OIIB6",
        "colab_type": "code",
        "colab": {}
      },
      "source": [
        "#face_recognition.api.compare_faces(known_faces, unknown_face_encoding, tolerance=0.6)"
      ],
      "execution_count": 0,
      "outputs": []
    },
    {
      "cell_type": "code",
      "metadata": {
        "id": "roxdSxXhOPXq",
        "colab_type": "code",
        "colab": {
          "base_uri": "https://localhost:8080/",
          "height": 816
        },
        "outputId": "311c4271-6182-41cc-ba80-d58e24c140f0"
      },
      "source": [
        "face_recognition.face_landmarks(known_image , face_locations=None, model='large')"
      ],
      "execution_count": 74,
      "outputs": [
        {
          "output_type": "execute_result",
          "data": {
            "text/plain": [
              "[{'bottom_lip': [(90, 87),\n",
              "   (82, 100),\n",
              "   (72, 105),\n",
              "   (64, 106),\n",
              "   (55, 105),\n",
              "   (42, 100),\n",
              "   (31, 87),\n",
              "   (35, 89),\n",
              "   (55, 98),\n",
              "   (63, 99),\n",
              "   (72, 98),\n",
              "   (86, 88)],\n",
              "  'chin': [(-4, 42),\n",
              "   (-3, 57),\n",
              "   (-1, 73),\n",
              "   (0, 89),\n",
              "   (6, 103),\n",
              "   (17, 115),\n",
              "   (31, 124),\n",
              "   (47, 129),\n",
              "   (64, 130),\n",
              "   (79, 128),\n",
              "   (91, 121),\n",
              "   (102, 111),\n",
              "   (110, 100),\n",
              "   (114, 87),\n",
              "   (116, 72),\n",
              "   (116, 58),\n",
              "   (115, 44)],\n",
              "  'left_eye': [(22, 36), (29, 32), (37, 33), (45, 38), (37, 38), (29, 38)],\n",
              "  'left_eyebrow': [(8, 25), (17, 17), (29, 14), (41, 15), (53, 20)],\n",
              "  'nose_bridge': [(64, 35), (65, 45), (65, 56), (66, 66)],\n",
              "  'nose_tip': [(52, 73), (58, 75), (65, 77), (70, 75), (75, 73)],\n",
              "  'right_eye': [(78, 39), (85, 34), (93, 33), (99, 37), (93, 39), (86, 39)],\n",
              "  'right_eyebrow': [(75, 20), (83, 17), (93, 16), (102, 19), (108, 24)],\n",
              "  'top_lip': [(31, 87),\n",
              "   (43, 85),\n",
              "   (55, 84),\n",
              "   (64, 86),\n",
              "   (72, 84),\n",
              "   (81, 85),\n",
              "   (90, 87),\n",
              "   (86, 88),\n",
              "   (72, 90),\n",
              "   (63, 91),\n",
              "   (55, 90),\n",
              "   (35, 89)]}]"
            ]
          },
          "metadata": {
            "tags": []
          },
          "execution_count": 74
        }
      ]
    },
    {
      "cell_type": "code",
      "metadata": {
        "id": "whmf6VmM-WRP",
        "colab_type": "code",
        "colab": {
          "base_uri": "https://localhost:8080/",
          "height": 54
        },
        "outputId": "eb0e424d-48e2-456f-f15e-6dc7e20f32ef"
      },
      "source": [
        "\"\"\"\n",
        "def acc(distance):  \n",
        "  if distance > 0.6:\n",
        "    print(\"not a match\")\n",
        "  else:\n",
        "    acc= 100-(distance/0.6)*10\n",
        "    print (acc)\n",
        "acc(distance)\n",
        "\"\"\""
      ],
      "execution_count": 75,
      "outputs": [
        {
          "output_type": "execute_result",
          "data": {
            "text/plain": [
              "'\\ndef acc(distance):  \\n  if distance > 0.6:\\n    print(\"not a match\")\\n  else:\\n    acc= 100-(distance/0.6)*10\\n    print (acc)\\nacc(distance)\\n'"
            ]
          },
          "metadata": {
            "tags": []
          },
          "execution_count": 75
        }
      ]
    },
    {
      "cell_type": "code",
      "metadata": {
        "id": "9-DJ1tSiZAOr",
        "colab_type": "code",
        "colab": {}
      },
      "source": [
        ""
      ],
      "execution_count": 0,
      "outputs": []
    }
  ]
}