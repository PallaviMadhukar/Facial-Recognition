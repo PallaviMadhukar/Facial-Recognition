{
  "nbformat": 4,
  "nbformat_minor": 0,
  "metadata": {
    "colab": {
      "name": "FR.ipynb",
      "provenance": [],
      "collapsed_sections": []
    },
    "kernelspec": {
      "name": "python3",
      "display_name": "Python 3"
    },
    "accelerator": "GPU"
  },
  "cells": [
    {
      "cell_type": "code",
      "metadata": {
        "id": "8Ir2K-oY_stJ",
        "colab_type": "code",
        "outputId": "752e394a-ca25-494c-e11d-b2041bd0c641",
        "colab": {
          "base_uri": "https://localhost:8080/",
          "height": 349
        }
      },
      "source": [
        "!pip install dlib\n",
        "!pip install face_recognition"
      ],
      "execution_count": 0,
      "outputs": [
        {
          "output_type": "stream",
          "text": [
            "Requirement already satisfied: dlib in /usr/local/lib/python3.6/dist-packages (19.16.0)\n",
            "Collecting face_recognition\n",
            "  Downloading https://files.pythonhosted.org/packages/3f/ed/ad9a28042f373d4633fc8b49109b623597d6f193d3bbbef7780a5ee8eef2/face_recognition-1.2.3-py2.py3-none-any.whl\n",
            "Requirement already satisfied: Click>=6.0 in /usr/local/lib/python3.6/dist-packages (from face_recognition) (7.0)\n",
            "Requirement already satisfied: Pillow in /usr/local/lib/python3.6/dist-packages (from face_recognition) (4.3.0)\n",
            "Requirement already satisfied: numpy in /usr/local/lib/python3.6/dist-packages (from face_recognition) (1.17.4)\n",
            "Collecting face-recognition-models>=0.3.0\n",
            "\u001b[?25l  Downloading https://files.pythonhosted.org/packages/cf/3b/4fd8c534f6c0d1b80ce0973d01331525538045084c73c153ee6df20224cf/face_recognition_models-0.3.0.tar.gz (100.1MB)\n",
            "\u001b[K     |████████████████████████████████| 100.2MB 93kB/s \n",
            "\u001b[?25hRequirement already satisfied: dlib>=19.7 in /usr/local/lib/python3.6/dist-packages (from face_recognition) (19.16.0)\n",
            "Requirement already satisfied: olefile in /usr/local/lib/python3.6/dist-packages (from Pillow->face_recognition) (0.46)\n",
            "Building wheels for collected packages: face-recognition-models\n",
            "  Building wheel for face-recognition-models (setup.py) ... \u001b[?25l\u001b[?25hdone\n",
            "  Created wheel for face-recognition-models: filename=face_recognition_models-0.3.0-py2.py3-none-any.whl size=100566176 sha256=eb9bf0059b8c22b924c840d25472477a40589cc6fe7de15045f1fb7e83663c1a\n",
            "  Stored in directory: /root/.cache/pip/wheels/d2/99/18/59c6c8f01e39810415c0e63f5bede7d83dfb0ffc039865465f\n",
            "Successfully built face-recognition-models\n",
            "Installing collected packages: face-recognition-models, face-recognition\n",
            "Successfully installed face-recognition-1.2.3 face-recognition-models-0.3.0\n"
          ],
          "name": "stdout"
        }
      ]
    },
    {
      "cell_type": "code",
      "metadata": {
        "id": "6ot8mk1V_fX4",
        "colab_type": "code",
        "colab": {}
      },
      "source": [
        "import numpy as np\n",
        "import csv\n",
        "from PIL import Image, ImageDraw\n",
        "from IPython.display import display\n",
        "from zipfile import ZipFile\n",
        "import face_recognition\n",
        "import os"
      ],
      "execution_count": 0,
      "outputs": []
    },
    {
      "cell_type": "code",
      "metadata": {
        "id": "k2Spp3ShEhKT",
        "colab_type": "code",
        "outputId": "020e1d34-a1f9-47ad-b1e9-cc3156499db8",
        "colab": {
          "base_uri": "https://localhost:8080/",
          "height": 124
        }
      },
      "source": [
        "from google.colab import drive\n",
        "drive.mount('/content/drive',force_remount=True)"
      ],
      "execution_count": 0,
      "outputs": [
        {
          "output_type": "stream",
          "text": [
            "Go to this URL in a browser: https://accounts.google.com/o/oauth2/auth?client_id=947318989803-6bn6qk8qdgf4n4g3pfee6491hc0brc4i.apps.googleusercontent.com&redirect_uri=urn%3aietf%3awg%3aoauth%3a2.0%3aoob&response_type=code&scope=email%20https%3a%2f%2fwww.googleapis.com%2fauth%2fdocs.test%20https%3a%2f%2fwww.googleapis.com%2fauth%2fdrive%20https%3a%2f%2fwww.googleapis.com%2fauth%2fdrive.photos.readonly%20https%3a%2f%2fwww.googleapis.com%2fauth%2fpeopleapi.readonly\n",
            "\n",
            "Enter your authorization code:\n",
            "··········\n",
            "Mounted at /content/drive\n"
          ],
          "name": "stdout"
        }
      ]
    },
    {
      "cell_type": "code",
      "metadata": {
        "id": "Jf4z4ebYGuaK",
        "colab_type": "code",
        "colab": {}
      },
      "source": [
        "\"\"\"\n",
        "file_name='/content/drive/My Drive/Research Project/known_imgs.zip'\n",
        "with ZipFile(file_name, 'r') as zip:\n",
        "  zip.extractall()\n",
        "  print(\"Unzipped file\")\n",
        "  \"\"\"\n",
        "!cp -r \"./drive/My Drive/missing_images\" \"./\""
      ],
      "execution_count": 0,
      "outputs": []
    },
    {
      "cell_type": "code",
      "metadata": {
        "id": "LEHUSExOgUSy",
        "colab_type": "code",
        "colab": {}
      },
      "source": [
        "!cp -r \"./Examples/A00_5F\" \"./example\""
      ],
      "execution_count": 0,
      "outputs": []
    },
    {
      "cell_type": "code",
      "metadata": {
        "id": "BZKKUAgdD7Kc",
        "colab_type": "code",
        "colab": {}
      },
      "source": [
        "import face_recognition\n",
        "known_faces=[]\n",
        "known_faces_path=[]\n",
        "for folders in os.listdir(\"./known_images\"):\n",
        " for img_k in os.listdir(\"./known_images/\"+folders):\n",
        "  try:\n",
        "      print(folders)\n",
        "      known_image = face_recognition.load_image_file(\"./known_images/\"+folders+'/'+img_k)\n",
        "      known_face_encoding = face_recognition.face_encodings(known_image)\n",
        "      #print(known_face_encoding)\n",
        "      if(known_face_encoding):\n",
        "       # print(\"yes\")\n",
        "        known_faces.append(known_face_encoding[0])\n",
        "        known_faces_path.append(\"./known_images/\"+folders+'/'+img_k)\n",
        "  except(OSError):\n",
        "    ;\n",
        "#print(known_faces)\n",
        "print(\"Known loaded\")\n",
        "    \n"
      ],
      "execution_count": 0,
      "outputs": []
    },
    {
      "cell_type": "code",
      "metadata": {
        "id": "jR_Y-ICu8saM",
        "colab_type": "code",
        "colab": {}
      },
      "source": [
        "f=open('./KnownEncoding.txt','a')\n",
        "f.write(str(known_faces))\n",
        "f.close()\n",
        "!cp -r './KnownEncoding.txt' './drive/My Drive/Research Project/KnownEncoding.txt'"
      ],
      "execution_count": 0,
      "outputs": []
    },
    {
      "cell_type": "code",
      "metadata": {
        "id": "ibyUgrAOTl_G",
        "colab_type": "code",
        "colab": {}
      },
      "source": [
        "#acc= 100-(distance/0.6)*10\n",
        "    \n"
      ],
      "execution_count": 0,
      "outputs": []
    },
    {
      "cell_type": "code",
      "metadata": {
        "id": "56emWKBUWLPz",
        "colab_type": "code",
        "colab": {}
      },
      "source": [
        "import os\n",
        "import face_recognition\n",
        "from PIL import Image\n",
        "for idx_u,img_u in enumerate(os.listdir(\"./missing_images\")):\n",
        " #if(idx<3):\n",
        "  try:\n",
        "   try:\n",
        "    unknown_image = face_recognition.load_image_file('./missing_images/'+img_u)\n",
        "    unknown_face_encoding = face_recognition.face_encodings(unknown_image)\n",
        "    #print(unknown_face_encoding)\n",
        "    results=face_recognition.compare_faces(known_faces, unknown_face_encoding[0],0.4015)\n",
        "    distance=face_recognition.face_distance(known_faces, unknown_face_encoding[0])\n",
        "\n",
        "    tf,=np.where(distance==min(distance))\n",
        "#    print(tf[0])\n",
        "    tf=(int(tf[0]))\n",
        "    if (results[tf]==np.bool('True')):\n",
        "        acc= 100-(min(distance)/0.4015)*10\n",
        "        print(('./missing_images/'+img_u) ,\" found at \" ,(known_faces_path[tf]))\n",
        "        print(distance)\n",
        "        print(min(distance))\n",
        "        print(acc)\n",
        "        pil_k = Image.open('./missing_images/'+img_u)\n",
        "        pil_k=pil_k.resize((128,128))\n",
        "        display(pil_k)\n",
        "        pil_u = Image.open(known_faces_path[tf])\n",
        "        pil_u=pil_u.resize((128,128))\n",
        "        display(pil_u)\n",
        "    else:\n",
        "      #;\n",
        "        print(('./missing_images/'+img_u) ,\" not found\")\n",
        "   except OSError:\n",
        "    # ;\n",
        "    print(\"OS\")\n",
        "  except IndexError:\n",
        "       ; \n",
        "       #print(\"Index error\")\n",
        "print(\"Done\")"
      ],
      "execution_count": 0,
      "outputs": []
    },
    {
      "cell_type": "code",
      "metadata": {
        "id": "0eb2oCc4w644",
        "colab_type": "code",
        "colab": {}
      },
      "source": [
        ""
      ],
      "execution_count": 0,
      "outputs": []
    }
  ]
}